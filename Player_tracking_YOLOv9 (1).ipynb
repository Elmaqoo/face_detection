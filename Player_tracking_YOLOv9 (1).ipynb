{
 "cells": [
  {
   "cell_type": "code",
   "execution_count": null,
   "metadata": {
    "id": "ZAZ01ORJ8gy_"
   },
   "outputs": [],
   "source": [
    "# Training Yolo V9 on a Custom DataSet"
   ]
  },
  {
   "cell_type": "markdown",
   "metadata": {
    "id": "sEr8ni8Q9GqU"
   },
   "source": [
    "Checking if we have the acess to GPU.:)"
   ]
  },
  {
   "cell_type": "code",
   "execution_count": null,
   "metadata": {
    "colab": {
     "base_uri": "https://localhost:8080/"
    },
    "id": "0GCuQ5Rl91c3",
    "outputId": "fa24ec39-1fe2-45dc-f9ca-945adacf646b"
   },
   "outputs": [],
   "source": [
    "import torch\n",
    "print(torch.cuda.is_available())\n",
    "print(torch.cuda.get_device_name(0) if torch.cuda.is_available() else 'No GPU found')\n"
   ]
  },
  {
   "cell_type": "markdown",
   "metadata": {
    "id": "qPkZf0DC96-g"
   },
   "source": [
    "Defining the directory to store Model related data."
   ]
  },
  {
   "cell_type": "code",
   "execution_count": null,
   "metadata": {
    "colab": {
     "base_uri": "https://localhost:8080/"
    },
    "id": "Kf-1frDW-Ftt",
    "outputId": "ecc9794b-7994-4892-f215-5b4aac8c6e4e"
   },
   "outputs": [],
   "source": [
    "import os\n",
    "HOME = os.getcwd()\n",
    "print(HOME)"
   ]
  },
  {
   "cell_type": "markdown",
   "metadata": {
    "id": "qWRGGT7Zjjbq"
   },
   "source": [
    "## Clone and Install YOLOv9 forked repo"
   ]
  },
  {
   "cell_type": "markdown",
   "metadata": {
    "id": "9WyY-fboBLZB"
   },
   "source": [
    "**NOTE:** YOLOv9 is very new. At the moment, it was recommended to fork it."
   ]
  },
  {
   "cell_type": "code",
   "execution_count": null,
   "metadata": {
    "colab": {
     "base_uri": "https://localhost:8080/"
    },
    "id": "pixgo4qnjdoU",
    "outputId": "8626e013-8d79-41cb-8494-a77511d6577d"
   },
   "outputs": [],
   "source": [
    "!git clone https://github.com/SkalskiP/yolov9.git\n",
    "%cd yolov9\n",
    "!pip install -r requirements.txt -q"
   ]
  },
  {
   "cell_type": "markdown",
   "metadata": {
    "id": "1HnrLBXgAS8o"
   },
   "source": [
    "Installing roboflow package to download data set from roboflow universe."
   ]
  },
  {
   "cell_type": "code",
   "execution_count": null,
   "metadata": {
    "colab": {
     "base_uri": "https://localhost:8080/"
    },
    "id": "TPGqlohQqgAO",
    "outputId": "227db40f-64cd-4f07-bddc-906cf5c04e1c"
   },
   "outputs": [],
   "source": [
    "!pip install -q roboflow"
   ]
  },
  {
   "cell_type": "markdown",
   "metadata": {
    "id": "X8oLIkX2l2P0"
   },
   "source": [
    "## Download model weights"
   ]
  },
  {
   "cell_type": "code",
   "execution_count": null,
   "metadata": {
    "id": "h7j3aUE7l1Je"
   },
   "outputs": [],
   "source": [
    "!wget -P {HOME}/weights -q https://github.com/WongKinYiu/yolov9/releases/download/v0.1/yolov9-c.pt\n",
    "!wget -P {HOME}/weights -q https://github.com/WongKinYiu/yolov9/releases/download/v0.1/yolov9-e.pt\n",
    "!wget -P {HOME}/weights -q https://github.com/WongKinYiu/yolov9/releases/download/v0.1/gelan-c.pt\n",
    "!wget -P {HOME}/weights -q https://github.com/WongKinYiu/yolov9/releases/download/v0.1/gelan-e.pt"
   ]
  },
  {
   "cell_type": "code",
   "execution_count": null,
   "metadata": {
    "colab": {
     "base_uri": "https://localhost:8080/"
    },
    "id": "Au6np1JS8eRB",
    "outputId": "0d796c9c-a107-4f90-a3e1-873d05f256be"
   },
   "outputs": [],
   "source": [
    "!ls -la {HOME}/weights"
   ]
  },
  {
   "cell_type": "markdown",
   "metadata": {
    "id": "Dg29vEyLkTDA"
   },
   "source": [
    "## Download example data"
   ]
  },
  {
   "cell_type": "markdown",
   "metadata": {
    "id": "TZk65vh-FzVb"
   },
   "source": [
    "this code snippet downloads sample data from my google drive which consists of multiple 30 sec football vids for testing"
   ]
  },
  {
   "cell_type": "markdown",
   "metadata": {
    "id": "Aup18ZYsJNtm"
   },
   "source": [
    "## Download data <a class=\"anchor\" id=\"download-data\"></a>"
   ]
  },
  {
   "cell_type": "code",
   "execution_count": null,
   "metadata": {
    "colab": {
     "base_uri": "https://localhost:8080/"
    },
    "id": "ZZxfTw7UIvR5",
    "outputId": "80ae1235-72dc-43b5-86a1-591117ccb6de"
   },
   "outputs": [],
   "source": [
    "!pip install kaggle --upgrade --quiet"
   ]
  },
  {
   "cell_type": "markdown",
   "metadata": {
    "id": "RnEI9XuAJQFd"
   },
   "source": [
    "I will use [DFL - Bundesliga Data Shootout](https://www.kaggle.com/competitions/dfl-bundesliga-data-shootout/data) from Kaggle. We can download it using [Kaggle API](https://github.com/Kaggle/kaggle-api). According to documentation we need to set up two environment variables first:\n",
    "\n",
    "```\n",
    "export KAGGLE_USERNAME=datadinosaur\n",
    "export KAGGLE_KEY=xxxxxxxxxxxxxx\n",
    "```"
   ]
  },
  {
   "cell_type": "code",
   "execution_count": null,
   "metadata": {
    "id": "ebh3CnjdH3xy"
   },
   "outputs": [],
   "source": [
    "import os\n",
    "from getpass import getpass"
   ]
  },
  {
   "cell_type": "code",
   "execution_count": null,
   "metadata": {
    "colab": {
     "base_uri": "https://localhost:8080/"
    },
    "id": "R5su9nb7LuSy",
    "outputId": "a0cb7c2a-52cb-4ea3-cf70-3267dff6dde1"
   },
   "outputs": [],
   "source": [
    "os.environ['KAGGLE_USERNAME'] = getpass('Enter KAGGLE_USERNAME secret value: ')\n",
    "os.environ['KAGGLE_KEY'] = getpass('Enter KAGGLE_KEY secret value: ')"
   ]
  },
  {
   "cell_type": "code",
   "execution_count": null,
   "metadata": {
    "colab": {
     "base_uri": "https://localhost:8080/"
    },
    "id": "ktm8j2MVxcHh",
    "outputId": "62f3945b-be46-4eb4-9328-ffaf15c20c55"
   },
   "outputs": [],
   "source": [
    "!kaggle competitions files -c dfl-bundesliga-data-shootout | grep clips | head -10"
   ]
  },
  {
   "cell_type": "code",
   "execution_count": null,
   "metadata": {
    "colab": {
     "base_uri": "https://localhost:8080/"
    },
    "id": "O7_SA2kwOWwY",
    "outputId": "f661d3e8-361c-434d-b28f-934307b7ca54"
   },
   "outputs": [],
   "source": [
    "%cd {HOME}/data\n",
    "!kaggle competitions files -c dfl-bundesliga-data-shootout | \\\n",
    "grep clips | head -20 | \\\n",
    "awk '{print $1}' | \\\n",
    "while read -r line; \\\n",
    "  do kaggle competitions download -c dfl-bundesliga-data-shootout -f $line -p clips --quiet; \\\n",
    "  unzip ${line}.zip -d clips && rm ${line}.zip; \\\n",
    "  done"
   ]
  },
  {
   "cell_type": "markdown",
   "metadata": {
    "id": "4dlfABN6m-LL"
   },
   "source": [
    "## Detection with pre-trained COCO model"
   ]
  },
  {
   "cell_type": "markdown",
   "metadata": {
    "id": "6EPCiYcFComZ"
   },
   "source": [
    "### gelan-c"
   ]
  },
  {
   "cell_type": "code",
   "execution_count": null,
   "metadata": {
    "colab": {
     "base_uri": "https://localhost:8080/"
    },
    "id": "V2p816r5SUV9",
    "outputId": "b7723f97-1fbe-4eb5-c053-fd4401741dca"
   },
   "outputs": [],
   "source": [
    "%cd {HOME}/yolov9\n",
    "!python detect.py --weights {HOME}/weights/gelan-c.pt --conf 0.1 --source /content/data/clips/08fd33_2.mp4 --device 0"
   ]
  },
  {
   "cell_type": "markdown",
   "metadata": {
    "id": "FCEIP-jFCsRN"
   },
   "source": [
    "## yolov9-e"
   ]
  },
  {
   "cell_type": "code",
   "execution_count": null,
   "metadata": {
    "colab": {
     "base_uri": "https://localhost:8080/"
    },
    "id": "g-UWKbPmf8nS",
    "outputId": "ebac21b1-4d1e-4005-900a-29e061a4f150"
   },
   "outputs": [],
   "source": [
    "!python detect.py --weights {HOME}/weights/yolov9-e.pt --conf 0.1 --source /content/data/clips/08fd33_2.mp4 --device 0"
   ]
  },
  {
   "cell_type": "markdown",
   "metadata": {
    "id": "D7fZKrxsq_td"
   },
   "source": [
    "## Authenticate and Download the Dataset"
   ]
  },
  {
   "cell_type": "code",
   "execution_count": null,
   "metadata": {
    "colab": {
     "base_uri": "https://localhost:8080/"
    },
    "id": "MyLpftfU2Q1U",
    "outputId": "d9c8e9c8-6b52-4c4a-94e8-5e5790e1fabb"
   },
   "outputs": [],
   "source": [
    "%cd {HOME}/yolov9"
   ]
  },
  {
   "cell_type": "code",
   "execution_count": null,
   "metadata": {
    "colab": {
     "base_uri": "https://localhost:8080/"
    },
    "id": "4J3s_2_7p_gn",
    "outputId": "215a8856-6b77-4cb8-aa84-79a54c500c0f"
   },
   "outputs": [],
   "source": [
    "!pip install roboflow\n",
    "\n",
    "from roboflow import Roboflow\n",
    "rf = Roboflow(api_key=\"K26G4eKfApij28NOzPWc\")\n",
    "project = rf.workspace(\"roboflow-jvuqo\").project(\"football-players-detection-3zvbc\")\n",
    "version = project.version(8)\n",
    "dataset = version.download(\"yolov9\")"
   ]
  },
  {
   "cell_type": "markdown",
   "metadata": {
    "id": "CTbGpF2IsZ24"
   },
   "source": [
    "## Train Custom Model"
   ]
  },
  {
   "cell_type": "code",
   "execution_count": null,
   "metadata": {
    "colab": {
     "base_uri": "https://localhost:8080/"
    },
    "id": "N68Bdf4FsMYW",
    "outputId": "9ed152bc-e643-4290-f1e7-41eb08321d84"
   },
   "outputs": [],
   "source": [
    "%cd {HOME}/yolov9\n",
    "\n",
    "!python train.py \\\n",
    "--batch 16 --epochs 25 --img 640 --device 0 --min-items 0 --close-mosaic 15 \\\n",
    "--data {dataset.location}/data.yaml \\\n",
    "--weights {HOME}/weights/gelan-c.pt \\\n",
    "--cfg models/detect/gelan-c.yaml \\\n",
    "--hyp hyp.scratch-high.yaml"
   ]
  },
  {
   "cell_type": "markdown",
   "metadata": {
    "id": "fpCwjSUg2Mrw"
   },
   "source": [
    "## Examine Training Results"
   ]
  },
  {
   "cell_type": "code",
   "execution_count": null,
   "metadata": {
    "colab": {
     "base_uri": "https://localhost:8080/"
    },
    "id": "WslwgMAW2Euc",
    "outputId": "144b5202-56a6-4782-f797-763010939665"
   },
   "outputs": [],
   "source": [
    "!ls {HOME}/yolov9/runs/train/exp/"
   ]
  },
  {
   "cell_type": "code",
   "execution_count": null,
   "metadata": {
    "colab": {
     "base_uri": "https://localhost:8080/",
     "height": 517
    },
    "id": "grirpuCstpZE",
    "outputId": "cd9b75ea-4451-4493-8a48-6ca4e848f075"
   },
   "outputs": [],
   "source": [
    "from IPython.display import Image\n",
    "\n",
    "Image(filename=f\"{HOME}/yolov9/runs/train/exp/results.png\", width=1000)"
   ]
  },
  {
   "cell_type": "code",
   "execution_count": null,
   "metadata": {
    "colab": {
     "base_uri": "https://localhost:8080/",
     "height": 767
    },
    "id": "qggEg7Hv1zJ6",
    "outputId": "9fcd5ba4-da6c-45d7-a051-b0b88d7da06d"
   },
   "outputs": [],
   "source": [
    "from IPython.display import Image\n",
    "\n",
    "Image(filename=f\"{HOME}/yolov9/runs/train/exp/confusion_matrix.png\", width=1000)"
   ]
  },
  {
   "cell_type": "code",
   "execution_count": null,
   "metadata": {
    "colab": {
     "base_uri": "https://localhost:8080/",
     "height": 590
    },
    "id": "Xja2fjTl32Ml",
    "outputId": "dc6b1c52-b42b-4e7b-c64d-11647e6aead9"
   },
   "outputs": [],
   "source": [
    "from IPython.display import Image\n",
    "\n",
    "Image(filename=f\"{HOME}/yolov9/runs/train/exp/val_batch0_pred.jpg\", width=1000)"
   ]
  },
  {
   "cell_type": "markdown",
   "metadata": {
    "id": "ih1rk9O_4CYG"
   },
   "source": [
    "## Validate Custom Model"
   ]
  },
  {
   "cell_type": "code",
   "execution_count": null,
   "metadata": {},
   "outputs": [],
   "source": [
    "%cd {HOME}/yolov9\n",
    "\n",
    "import cv2\n",
    "import numpy as np\n",
    "from tqdm import tqdm\n",
    "from models.experimental import attempt_load\n",
    "from utils.datasets import LoadStreams, LoadImages\n",
    "from utils.general import check_img_size, check_requirements, non_max_suppression, scale_coords, xyxy2xywh, set_logging\n",
    "from utils.plots import plot_one_box\n",
    "from utils.torch_utils import select_device\n",
    "\n",
    "# Initialize device\n",
    "device = select_device('0')\n",
    "\n",
    "# Load model\n",
    "weights = f'{HOME}/yolov9/runs/train/exp/weights/best.pt'\n",
    "model = attempt_load(weights, map_location=device)\n",
    "\n",
    "# Set model to evaluation mode\n",
    "model.eval()\n",
    "\n",
    "# Load video\n",
    "video_path = 'path/to/video.mp4'\n",
    "cap = cv2.VideoCapture(video_path)\n",
    "assert cap.isOpened(), 'Failed to open video file'\n",
    "\n",
    "# Initialize statistics variables\n",
    "player_positions = []\n",
    "ball_positions = []\n",
    "timestamps = []\n",
    "\n",
    "# Process each frame\n",
    "while cap.isOpened():\n",
    "    ret, frame = cap.read()\n",
    "    if not ret:\n",
    "        break\n",
    "\n",
    "    # Preprocess frame\n",
    "    img = letterbox(frame, new_shape=(640, 640))[0]\n",
    "    img = img[:, :, ::-1].transpose(2, 0, 1)\n",
    "    img = np.ascontiguousarray(img)\n",
    "\n",
    "    # Convert image to tensor\n",
    "    img = torch.from_numpy(img).to(device)\n",
    "    img = img.float()  # uint8 to fp16/32\n",
    "    img /= 255.0  # 0 - 255 to 0.0 - 1.0\n",
    "    if img.ndimension() == 3:\n",
    "        img = img.unsqueeze(0)\n",
    "\n",
    "    # Inference\n",
    "    pred = model(img)[0]\n",
    "\n",
    "    # Process detections\n",
    "    pred = non_max_suppression(pred, 0.001, 0.7)\n",
    "    for det in pred:\n",
    "        if det is not None and len(det):\n",
    "            # Process each detected object\n",
    "            for *xyxy, conf, cls in det:\n",
    "                xywh = xyxy2xywh(torch.tensor(xyxy).view(1, 4)).numpy().tolist()[0]\n",
    "\n",
    "                # Class 0 is the ball, process separately\n",
    "                if int(cls) == 0:\n",
    "                    ball_positions.append(xywh)\n",
    "                else:\n",
    "                    player_positions.append(xywh)\n",
    "\n",
    "    # Track positions, compute statistics, and collect timestamps\n",
    "    # Implement object tracking, statistical analysis, and data collection here\n",
    "    # Update player_positions, ball_positions, and timestamps accordingly\n",
    "\n",
    "    # Visualize detections (optional)\n",
    "    # You can visualize the detections on the frame using plot_one_box function\n",
    "\n",
    "# Save statistics to a file or perform further analysis/visualization\n",
    "# Output the computed statistics in a suitable format (e.g., CSV file)\n"
   ]
  },
  {
   "cell_type": "code",
   "execution_count": null,
   "metadata": {
    "colab": {
     "base_uri": "https://localhost:8080/"
    },
    "id": "XoZv8kNE4NxS",
    "outputId": "a13455e7-0524-46e5-c99e-4d930065b140"
   },
   "outputs": [],
   "source": [
    "import cv2\n",
    "import numpy as np\n",
    "from tqdm import tqdm\n",
    "from models.experimental import attempt_load\n",
    "from utils.datasets import LoadStreams, LoadImages\n",
    "from utils.general import check_img_size, check_requirements, non_max_suppression, scale_coords, xyxy2xywh, set_logging\n",
    "from utils.plots import plot_one_box\n",
    "from utils.torch_utils import select_device\n",
    "%cd {HOME}/yolov9\n",
    "# Initialize device\n",
    "device = select_device('0')\n",
    "\n",
    "# Load model\n",
    "weights = f'{HOME}/yolov9/runs/train/exp/weights/best.pt'\n",
    "model = attempt_load(weights, map_location=device)\n",
    "\n",
    "# Set model to evaluation mode\n",
    "model.eval()\n",
    "\n",
    "# Load video\n",
    "video_path = 'path/to/video.mp4'\n",
    "cap = cv2.VideoCapture(video_path)\n",
    "assert cap.isOpened(), 'Failed to open video file'\n",
    "\n",
    "# Initialize statistics variables\n",
    "player_positions = []\n",
    "ball_positions = []\n",
    "timestamps = []\n",
    "\n",
    "# Process each frame\n",
    "while cap.isOpened():\n",
    "    ret, frame = cap.read()\n",
    "    if not ret:\n",
    "        break\n",
    "\n",
    "    # Preprocess frame\n",
    "    img = letterbox(frame, new_shape=(640, 640))[0]\n",
    "    img = img[:, :, ::-1].transpose(2, 0, 1)\n",
    "    img = np.ascontiguousarray(img)\n",
    "\n",
    "    # Convert image to tensor\n",
    "    img = torch.from_numpy(img).to(device)\n",
    "    img = img.float()  # uint8 to fp16/32\n",
    "    img /= 255.0  # 0 - 255 to 0.0 - 1.0\n",
    "    if img.ndimension() == 3:\n",
    "        img = img.unsqueeze(0)\n",
    "\n",
    "    # Inference\n",
    "    pred = model(img)[0]\n",
    "\n",
    "    # Process detections\n",
    "    pred = non_max_suppression(pred, 0.001, 0.7)\n",
    "    for det in pred:\n",
    "        if det is not None and len(det):\n",
    "            # Process each detected object\n",
    "            for *xyxy, conf, cls in det:\n",
    "                xywh = xyxy2xywh(torch.tensor(xyxy).view(1, 4)).numpy().tolist()[0]\n",
    "\n",
    "                # Class 0 is the ball, process separately\n",
    "                if int(cls) == 0:\n",
    "                    ball_positions.append(xywh)\n",
    "                else:\n",
    "                    player_positions.append(xywh)\n",
    "\n",
    "    # Track positions, compute statistics, and collect timestamps\n",
    "    # Implement object tracking, statistical analysis, and data collection here\n",
    "    # Update player_positions, ball_positions, and timestamps accordingly\n",
    "\n",
    "    # Visualize detections (optional)\n",
    "    # You can visualize the detections on the frame using plot_one_box function\n",
    "\n",
    "    # Display speed on the processed video\n",
    "    for player_position in player_positions:\n",
    "        # Calculate speed using player_position and timestamps\n",
    "        speed = calculate_speed(player_position, timestamps)\n",
    "\n",
    "        # Display speed on the frame\n",
    "        cv2.putText(frame, f\"Speed: {speed} m/s\", (player_position[0], player_position[1] - 10),\n",
    "                    cv2.FONT_HERSHEY_SIMPLEX, 0.5, (0, 255, 0), 2)\n",
    "\n",
    "    # Display the frame\n",
    "    cv2.imshow('Processed Video', frame)\n",
    "    if cv2.waitKey(1) & 0xFF == ord('q'):\n",
    "        break\n",
    "\n",
    "# Release the video capture and close the window\n",
    "cap.release()\n",
    "cv2.destroyAllWindows()\n",
    "\n",
    "!python val.py \\\n",
    "--img 640 --batch 32 --conf 0.001 --iou 0.7 --device 0 \\\n",
    "--data {dataset.location}/data.yaml \\\n",
    "--weights {HOME}/yolov9/runs/train/exp/weights/best.pt"
   ]
  },
  {
   "cell_type": "code",
   "execution_count": null,
   "metadata": {},
   "outputs": [],
   "source": [
    "speed = distance / time\n"
   ]
  },
  {
   "cell_type": "markdown",
   "metadata": {
    "id": "qJJ5fiqT6mEq"
   },
   "source": [
    "## Inference with Custom Model"
   ]
  },
  {
   "cell_type": "code",
   "execution_count": null,
   "metadata": {
    "id": "8vnrn9cwIsUs"
   },
   "outputs": [],
   "source": [
    "!python detect.py \\\n",
    "--img 1280 --conf 0.1 --device 0 \\\n",
    "--weights {HOME}/yolov9/runs/train/exp/weights/best.pt \\\n",
    "--source {dataset.location}/test/images"
   ]
  },
  {
   "cell_type": "code",
   "execution_count": null,
   "metadata": {
    "colab": {
     "base_uri": "https://localhost:8080/",
     "height": 692
    },
    "id": "XoV4sGOKJPZj",
    "outputId": "35982356-6054-4497-ca3e-b35fe7377c01"
   },
   "outputs": [],
   "source": [
    "import glob\n",
    "\n",
    "from IPython.display import Image, display\n",
    "\n",
    "for image_path in glob.glob(f'{HOME}/yolov9/runs/detect/exp3/*.jpg')[:2]:\n",
    "      display(Image(filename=image_path, width=600))"
   ]
  },
  {
   "cell_type": "markdown",
   "metadata": {
    "id": "t31U6gLCzvFP"
   },
   "source": [
    "# Testing on my experimental data"
   ]
  },
  {
   "cell_type": "code",
   "execution_count": null,
   "metadata": {
    "colab": {
     "base_uri": "https://localhost:8080/"
    },
    "id": "ucGZAenVytSD",
    "outputId": "af30b574-cde7-4b83-c614-06020c72df4a"
   },
   "outputs": [],
   "source": [
    "!python detect.py \\\n",
    "--img 1280 --conf 0.1 --device 0 \\\n",
    "--weights {HOME}/yolov9/runs/train/exp/weights/best.pt \\\n",
    "--source {HOME}/data/clips/08fd33_3.mp4"
   ]
  },
  {
   "cell_type": "markdown",
   "metadata": {},
   "source": [
    "## Deploy YOLOv9 Model with Inference"
   ]
  },
  {
   "cell_type": "code",
   "execution_count": null,
   "metadata": {},
   "outputs": [],
   "source": [
    "!pip install -q inference supervision"
   ]
  },
  {
   "cell_type": "code",
   "execution_count": null,
   "metadata": {},
   "outputs": [],
   "source": [
    "import cv2\n",
    "import random\n",
    "import getpass\n",
    "\n",
    "import supervision as sv\n",
    "\n",
    "from inference import get_model\n",
    "\n",
    "%matplotlib inline"
   ]
  },
  {
   "cell_type": "code",
   "execution_count": null,
   "metadata": {},
   "outputs": [],
   "source": [
    "version.deploy(model_type=\"yolov9\", model_path=f\"{HOME}/yolov9/runs/train/exp\")"
   ]
  },
  {
   "cell_type": "code",
   "execution_count": null,
   "metadata": {},
   "outputs": [],
   "source": [
    "ROBOFLOW_API_KEY = getpass.getpass()\n",
    "\n",
    "model = get_model(model_id=\"football-players-detection-3zvbc/8\", api_key=ROBOFLOW_API_KEY)"
   ]
  },
  {
   "cell_type": "code",
   "execution_count": null,
   "metadata": {},
   "outputs": [],
   "source": [
    "image_paths = sv.list_files_with_extensions(\n",
    "    directory=f\"{dataset.location}/test/images\",\n",
    "    extensions=['png', 'jpg', 'jpeg']\n",
    ")\n",
    "image_path = random.choice(image_paths)\n",
    "image = cv2.imread(image_path)\n",
    "\n",
    "result = model.infer(image, confidence=0.1)[0]\n",
    "detections = sv.Detections.from_inference(result)"
   ]
  },
  {
   "cell_type": "code",
   "execution_count": null,
   "metadata": {},
   "outputs": [],
   "source": [
    "label_annotator = sv.LabelAnnotator(text_color=sv.Color.BLACK)\n",
    "bounding_box_annotator = sv.BoundingBoxAnnotator()\n",
    "\n",
    "annotated_image = image.copy()\n",
    "annotated_image = bounding_box_annotator.annotate(scene=annotated_image, detections=detections)\n",
    "annotated_image = label_annotator.annotate(scene=annotated_image, detections=detections)\n",
    "\n",
    "sv.plot_image(annotated_image)"
   ]
  }
 ],
 "metadata": {
  "accelerator": "GPU",
  "colab": {
   "gpuType": "T4",
   "provenance": []
  },
  "kernelspec": {
   "display_name": "Python 3 (ipykernel)",
   "language": "python",
   "name": "python3"
  },
  "language_info": {
   "codemirror_mode": {
    "name": "ipython",
    "version": 3
   },
   "file_extension": ".py",
   "mimetype": "text/x-python",
   "name": "python",
   "nbconvert_exporter": "python",
   "pygments_lexer": "ipython3",
   "version": "3.12.7"
  }
 },
 "nbformat": 4,
 "nbformat_minor": 4
}
